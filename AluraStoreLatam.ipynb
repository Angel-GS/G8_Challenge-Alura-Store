{
  "nbformat": 4,
  "nbformat_minor": 0,
  "metadata": {
    "colab": {
      "provenance": [],
      "include_colab_link": true
    },
    "kernelspec": {
      "name": "python3",
      "display_name": "Python 3"
    },
    "language_info": {
      "name": "python"
    }
  },
  "cells": [
    {
      "cell_type": "markdown",
      "metadata": {
        "id": "view-in-github",
        "colab_type": "text"
      },
      "source": [
        "<a href=\"https://colab.research.google.com/github/Angel-GS/G8_Challenge-Alura-Store/blob/challenge_solving/AluraStoreLatam.ipynb\" target=\"_parent\"><img src=\"https://colab.research.google.com/assets/colab-badge.svg\" alt=\"Open In Colab\"/></a>"
      ]
    },
    {
      "cell_type": "markdown",
      "source": [
        "### Importación de datos\n",
        "\n"
      ],
      "metadata": {
        "id": "RhEdWd9YUR6H"
      }
    },
    {
      "cell_type": "code",
      "execution_count": 1,
      "metadata": {
        "colab": {
          "base_uri": "https://localhost:8080/",
          "height": 347
        },
        "id": "T3EvaeQ_INIL",
        "outputId": "8f8b3f37-e352-4954-b794-f9281b00fced"
      },
      "outputs": [
        {
          "output_type": "execute_result",
          "data": {
            "text/plain": [
              "            Producto Categoría del Producto    Precio  Costo de envío  \\\n",
              "0  Asistente virtual           Electrónicos  164300.0          6900.0   \n",
              "1    Mesa de comedor                Muebles  192300.0          8400.0   \n",
              "2      Juego de mesa               Juguetes  209600.0         15900.0   \n",
              "3         Microondas      Electrodomésticos  757500.0         41000.0   \n",
              "4   Silla de oficina                Muebles  335200.0         20200.0   \n",
              "\n",
              "  Fecha de Compra         Vendedor Lugar de Compra  Calificación  \\\n",
              "0      16/01/2021      Pedro Gomez          Bogotá             4   \n",
              "1      18/05/2022  Beatriz Morales        Medellín             1   \n",
              "2      15/03/2021   Juan Fernandez       Cartagena             1   \n",
              "3      03/05/2022   Juan Fernandez            Cali             4   \n",
              "4      07/11/2020    Maria Alfonso        Medellín             5   \n",
              "\n",
              "       Método de pago  Cantidad de cuotas       lat       lon  \n",
              "0  Tarjeta de crédito                   8   4.60971 -74.08175  \n",
              "1  Tarjeta de crédito                   4   6.25184 -75.56359  \n",
              "2  Tarjeta de crédito                   1  10.39972 -75.51444  \n",
              "3               Nequi                   1   3.43722 -76.52250  \n",
              "4               Nequi                   1   6.25184 -75.56359  "
            ],
            "text/html": [
              "\n",
              "  <div id=\"df-91140afc-b92e-4258-ad60-e2724f994791\" class=\"colab-df-container\">\n",
              "    <div>\n",
              "<style scoped>\n",
              "    .dataframe tbody tr th:only-of-type {\n",
              "        vertical-align: middle;\n",
              "    }\n",
              "\n",
              "    .dataframe tbody tr th {\n",
              "        vertical-align: top;\n",
              "    }\n",
              "\n",
              "    .dataframe thead th {\n",
              "        text-align: right;\n",
              "    }\n",
              "</style>\n",
              "<table border=\"1\" class=\"dataframe\">\n",
              "  <thead>\n",
              "    <tr style=\"text-align: right;\">\n",
              "      <th></th>\n",
              "      <th>Producto</th>\n",
              "      <th>Categoría del Producto</th>\n",
              "      <th>Precio</th>\n",
              "      <th>Costo de envío</th>\n",
              "      <th>Fecha de Compra</th>\n",
              "      <th>Vendedor</th>\n",
              "      <th>Lugar de Compra</th>\n",
              "      <th>Calificación</th>\n",
              "      <th>Método de pago</th>\n",
              "      <th>Cantidad de cuotas</th>\n",
              "      <th>lat</th>\n",
              "      <th>lon</th>\n",
              "    </tr>\n",
              "  </thead>\n",
              "  <tbody>\n",
              "    <tr>\n",
              "      <th>0</th>\n",
              "      <td>Asistente virtual</td>\n",
              "      <td>Electrónicos</td>\n",
              "      <td>164300.0</td>\n",
              "      <td>6900.0</td>\n",
              "      <td>16/01/2021</td>\n",
              "      <td>Pedro Gomez</td>\n",
              "      <td>Bogotá</td>\n",
              "      <td>4</td>\n",
              "      <td>Tarjeta de crédito</td>\n",
              "      <td>8</td>\n",
              "      <td>4.60971</td>\n",
              "      <td>-74.08175</td>\n",
              "    </tr>\n",
              "    <tr>\n",
              "      <th>1</th>\n",
              "      <td>Mesa de comedor</td>\n",
              "      <td>Muebles</td>\n",
              "      <td>192300.0</td>\n",
              "      <td>8400.0</td>\n",
              "      <td>18/05/2022</td>\n",
              "      <td>Beatriz Morales</td>\n",
              "      <td>Medellín</td>\n",
              "      <td>1</td>\n",
              "      <td>Tarjeta de crédito</td>\n",
              "      <td>4</td>\n",
              "      <td>6.25184</td>\n",
              "      <td>-75.56359</td>\n",
              "    </tr>\n",
              "    <tr>\n",
              "      <th>2</th>\n",
              "      <td>Juego de mesa</td>\n",
              "      <td>Juguetes</td>\n",
              "      <td>209600.0</td>\n",
              "      <td>15900.0</td>\n",
              "      <td>15/03/2021</td>\n",
              "      <td>Juan Fernandez</td>\n",
              "      <td>Cartagena</td>\n",
              "      <td>1</td>\n",
              "      <td>Tarjeta de crédito</td>\n",
              "      <td>1</td>\n",
              "      <td>10.39972</td>\n",
              "      <td>-75.51444</td>\n",
              "    </tr>\n",
              "    <tr>\n",
              "      <th>3</th>\n",
              "      <td>Microondas</td>\n",
              "      <td>Electrodomésticos</td>\n",
              "      <td>757500.0</td>\n",
              "      <td>41000.0</td>\n",
              "      <td>03/05/2022</td>\n",
              "      <td>Juan Fernandez</td>\n",
              "      <td>Cali</td>\n",
              "      <td>4</td>\n",
              "      <td>Nequi</td>\n",
              "      <td>1</td>\n",
              "      <td>3.43722</td>\n",
              "      <td>-76.52250</td>\n",
              "    </tr>\n",
              "    <tr>\n",
              "      <th>4</th>\n",
              "      <td>Silla de oficina</td>\n",
              "      <td>Muebles</td>\n",
              "      <td>335200.0</td>\n",
              "      <td>20200.0</td>\n",
              "      <td>07/11/2020</td>\n",
              "      <td>Maria Alfonso</td>\n",
              "      <td>Medellín</td>\n",
              "      <td>5</td>\n",
              "      <td>Nequi</td>\n",
              "      <td>1</td>\n",
              "      <td>6.25184</td>\n",
              "      <td>-75.56359</td>\n",
              "    </tr>\n",
              "  </tbody>\n",
              "</table>\n",
              "</div>\n",
              "    <div class=\"colab-df-buttons\">\n",
              "\n",
              "  <div class=\"colab-df-container\">\n",
              "    <button class=\"colab-df-convert\" onclick=\"convertToInteractive('df-91140afc-b92e-4258-ad60-e2724f994791')\"\n",
              "            title=\"Convert this dataframe to an interactive table.\"\n",
              "            style=\"display:none;\">\n",
              "\n",
              "  <svg xmlns=\"http://www.w3.org/2000/svg\" height=\"24px\" viewBox=\"0 -960 960 960\">\n",
              "    <path d=\"M120-120v-720h720v720H120Zm60-500h600v-160H180v160Zm220 220h160v-160H400v160Zm0 220h160v-160H400v160ZM180-400h160v-160H180v160Zm440 0h160v-160H620v160ZM180-180h160v-160H180v160Zm440 0h160v-160H620v160Z\"/>\n",
              "  </svg>\n",
              "    </button>\n",
              "\n",
              "  <style>\n",
              "    .colab-df-container {\n",
              "      display:flex;\n",
              "      gap: 12px;\n",
              "    }\n",
              "\n",
              "    .colab-df-convert {\n",
              "      background-color: #E8F0FE;\n",
              "      border: none;\n",
              "      border-radius: 50%;\n",
              "      cursor: pointer;\n",
              "      display: none;\n",
              "      fill: #1967D2;\n",
              "      height: 32px;\n",
              "      padding: 0 0 0 0;\n",
              "      width: 32px;\n",
              "    }\n",
              "\n",
              "    .colab-df-convert:hover {\n",
              "      background-color: #E2EBFA;\n",
              "      box-shadow: 0px 1px 2px rgba(60, 64, 67, 0.3), 0px 1px 3px 1px rgba(60, 64, 67, 0.15);\n",
              "      fill: #174EA6;\n",
              "    }\n",
              "\n",
              "    .colab-df-buttons div {\n",
              "      margin-bottom: 4px;\n",
              "    }\n",
              "\n",
              "    [theme=dark] .colab-df-convert {\n",
              "      background-color: #3B4455;\n",
              "      fill: #D2E3FC;\n",
              "    }\n",
              "\n",
              "    [theme=dark] .colab-df-convert:hover {\n",
              "      background-color: #434B5C;\n",
              "      box-shadow: 0px 1px 3px 1px rgba(0, 0, 0, 0.15);\n",
              "      filter: drop-shadow(0px 1px 2px rgba(0, 0, 0, 0.3));\n",
              "      fill: #FFFFFF;\n",
              "    }\n",
              "  </style>\n",
              "\n",
              "    <script>\n",
              "      const buttonEl =\n",
              "        document.querySelector('#df-91140afc-b92e-4258-ad60-e2724f994791 button.colab-df-convert');\n",
              "      buttonEl.style.display =\n",
              "        google.colab.kernel.accessAllowed ? 'block' : 'none';\n",
              "\n",
              "      async function convertToInteractive(key) {\n",
              "        const element = document.querySelector('#df-91140afc-b92e-4258-ad60-e2724f994791');\n",
              "        const dataTable =\n",
              "          await google.colab.kernel.invokeFunction('convertToInteractive',\n",
              "                                                    [key], {});\n",
              "        if (!dataTable) return;\n",
              "\n",
              "        const docLinkHtml = 'Like what you see? Visit the ' +\n",
              "          '<a target=\"_blank\" href=https://colab.research.google.com/notebooks/data_table.ipynb>data table notebook</a>'\n",
              "          + ' to learn more about interactive tables.';\n",
              "        element.innerHTML = '';\n",
              "        dataTable['output_type'] = 'display_data';\n",
              "        await google.colab.output.renderOutput(dataTable, element);\n",
              "        const docLink = document.createElement('div');\n",
              "        docLink.innerHTML = docLinkHtml;\n",
              "        element.appendChild(docLink);\n",
              "      }\n",
              "    </script>\n",
              "  </div>\n",
              "\n",
              "\n",
              "<div id=\"df-65b50e6b-b4c7-416b-b57e-ec092db44970\">\n",
              "  <button class=\"colab-df-quickchart\" onclick=\"quickchart('df-65b50e6b-b4c7-416b-b57e-ec092db44970')\"\n",
              "            title=\"Suggest charts\"\n",
              "            style=\"display:none;\">\n",
              "\n",
              "<svg xmlns=\"http://www.w3.org/2000/svg\" height=\"24px\"viewBox=\"0 0 24 24\"\n",
              "     width=\"24px\">\n",
              "    <g>\n",
              "        <path d=\"M19 3H5c-1.1 0-2 .9-2 2v14c0 1.1.9 2 2 2h14c1.1 0 2-.9 2-2V5c0-1.1-.9-2-2-2zM9 17H7v-7h2v7zm4 0h-2V7h2v10zm4 0h-2v-4h2v4z\"/>\n",
              "    </g>\n",
              "</svg>\n",
              "  </button>\n",
              "\n",
              "<style>\n",
              "  .colab-df-quickchart {\n",
              "      --bg-color: #E8F0FE;\n",
              "      --fill-color: #1967D2;\n",
              "      --hover-bg-color: #E2EBFA;\n",
              "      --hover-fill-color: #174EA6;\n",
              "      --disabled-fill-color: #AAA;\n",
              "      --disabled-bg-color: #DDD;\n",
              "  }\n",
              "\n",
              "  [theme=dark] .colab-df-quickchart {\n",
              "      --bg-color: #3B4455;\n",
              "      --fill-color: #D2E3FC;\n",
              "      --hover-bg-color: #434B5C;\n",
              "      --hover-fill-color: #FFFFFF;\n",
              "      --disabled-bg-color: #3B4455;\n",
              "      --disabled-fill-color: #666;\n",
              "  }\n",
              "\n",
              "  .colab-df-quickchart {\n",
              "    background-color: var(--bg-color);\n",
              "    border: none;\n",
              "    border-radius: 50%;\n",
              "    cursor: pointer;\n",
              "    display: none;\n",
              "    fill: var(--fill-color);\n",
              "    height: 32px;\n",
              "    padding: 0;\n",
              "    width: 32px;\n",
              "  }\n",
              "\n",
              "  .colab-df-quickchart:hover {\n",
              "    background-color: var(--hover-bg-color);\n",
              "    box-shadow: 0 1px 2px rgba(60, 64, 67, 0.3), 0 1px 3px 1px rgba(60, 64, 67, 0.15);\n",
              "    fill: var(--button-hover-fill-color);\n",
              "  }\n",
              "\n",
              "  .colab-df-quickchart-complete:disabled,\n",
              "  .colab-df-quickchart-complete:disabled:hover {\n",
              "    background-color: var(--disabled-bg-color);\n",
              "    fill: var(--disabled-fill-color);\n",
              "    box-shadow: none;\n",
              "  }\n",
              "\n",
              "  .colab-df-spinner {\n",
              "    border: 2px solid var(--fill-color);\n",
              "    border-color: transparent;\n",
              "    border-bottom-color: var(--fill-color);\n",
              "    animation:\n",
              "      spin 1s steps(1) infinite;\n",
              "  }\n",
              "\n",
              "  @keyframes spin {\n",
              "    0% {\n",
              "      border-color: transparent;\n",
              "      border-bottom-color: var(--fill-color);\n",
              "      border-left-color: var(--fill-color);\n",
              "    }\n",
              "    20% {\n",
              "      border-color: transparent;\n",
              "      border-left-color: var(--fill-color);\n",
              "      border-top-color: var(--fill-color);\n",
              "    }\n",
              "    30% {\n",
              "      border-color: transparent;\n",
              "      border-left-color: var(--fill-color);\n",
              "      border-top-color: var(--fill-color);\n",
              "      border-right-color: var(--fill-color);\n",
              "    }\n",
              "    40% {\n",
              "      border-color: transparent;\n",
              "      border-right-color: var(--fill-color);\n",
              "      border-top-color: var(--fill-color);\n",
              "    }\n",
              "    60% {\n",
              "      border-color: transparent;\n",
              "      border-right-color: var(--fill-color);\n",
              "    }\n",
              "    80% {\n",
              "      border-color: transparent;\n",
              "      border-right-color: var(--fill-color);\n",
              "      border-bottom-color: var(--fill-color);\n",
              "    }\n",
              "    90% {\n",
              "      border-color: transparent;\n",
              "      border-bottom-color: var(--fill-color);\n",
              "    }\n",
              "  }\n",
              "</style>\n",
              "\n",
              "  <script>\n",
              "    async function quickchart(key) {\n",
              "      const quickchartButtonEl =\n",
              "        document.querySelector('#' + key + ' button');\n",
              "      quickchartButtonEl.disabled = true;  // To prevent multiple clicks.\n",
              "      quickchartButtonEl.classList.add('colab-df-spinner');\n",
              "      try {\n",
              "        const charts = await google.colab.kernel.invokeFunction(\n",
              "            'suggestCharts', [key], {});\n",
              "      } catch (error) {\n",
              "        console.error('Error during call to suggestCharts:', error);\n",
              "      }\n",
              "      quickchartButtonEl.classList.remove('colab-df-spinner');\n",
              "      quickchartButtonEl.classList.add('colab-df-quickchart-complete');\n",
              "    }\n",
              "    (() => {\n",
              "      let quickchartButtonEl =\n",
              "        document.querySelector('#df-65b50e6b-b4c7-416b-b57e-ec092db44970 button');\n",
              "      quickchartButtonEl.style.display =\n",
              "        google.colab.kernel.accessAllowed ? 'block' : 'none';\n",
              "    })();\n",
              "  </script>\n",
              "</div>\n",
              "\n",
              "    </div>\n",
              "  </div>\n"
            ],
            "application/vnd.google.colaboratory.intrinsic+json": {
              "type": "dataframe",
              "variable_name": "tienda",
              "summary": "{\n  \"name\": \"tienda\",\n  \"rows\": 2359,\n  \"fields\": [\n    {\n      \"column\": \"Producto\",\n      \"properties\": {\n        \"dtype\": \"category\",\n        \"num_unique_values\": 51,\n        \"samples\": [\n          \"Guitarra ac\\u00fastica\",\n          \"Bal\\u00f3n de baloncesto\",\n          \"Smartwatch\"\n        ],\n        \"semantic_type\": \"\",\n        \"description\": \"\"\n      }\n    },\n    {\n      \"column\": \"Categor\\u00eda del Producto\",\n      \"properties\": {\n        \"dtype\": \"category\",\n        \"num_unique_values\": 8,\n        \"samples\": [\n          \"Muebles\",\n          \"Deportes y diversi\\u00f3n\",\n          \"Electr\\u00f3nicos\"\n        ],\n        \"semantic_type\": \"\",\n        \"description\": \"\"\n      }\n    },\n    {\n      \"column\": \"Precio\",\n      \"properties\": {\n        \"dtype\": \"number\",\n        \"std\": 614686.7653873172,\n        \"min\": 7600.0,\n        \"max\": 2977000.0,\n        \"num_unique_values\": 1937,\n        \"samples\": [\n          2499400.0,\n          14800.0,\n          80500.0\n        ],\n        \"semantic_type\": \"\",\n        \"description\": \"\"\n      }\n    },\n    {\n      \"column\": \"Costo de env\\u00edo\",\n      \"properties\": {\n        \"dtype\": \"number\",\n        \"std\": 32860.0017825605,\n        \"min\": 0.0,\n        \"max\": 160800.0,\n        \"num_unique_values\": 753,\n        \"samples\": [\n          117800.0,\n          54700.0,\n          45600.0\n        ],\n        \"semantic_type\": \"\",\n        \"description\": \"\"\n      }\n    },\n    {\n      \"column\": \"Fecha de Compra\",\n      \"properties\": {\n        \"dtype\": \"object\",\n        \"num_unique_values\": 1018,\n        \"samples\": [\n          \"15/09/2022\",\n          \"03/06/2020\",\n          \"06/11/2021\"\n        ],\n        \"semantic_type\": \"\",\n        \"description\": \"\"\n      }\n    },\n    {\n      \"column\": \"Vendedor\",\n      \"properties\": {\n        \"dtype\": \"category\",\n        \"num_unique_values\": 14,\n        \"samples\": [\n          \"Juliana Costa\",\n          \"Mariana Herrera\",\n          \"Pedro Gomez\"\n        ],\n        \"semantic_type\": \"\",\n        \"description\": \"\"\n      }\n    },\n    {\n      \"column\": \"Lugar de Compra\",\n      \"properties\": {\n        \"dtype\": \"category\",\n        \"num_unique_values\": 19,\n        \"samples\": [\n          \"Bogot\\u00e1\",\n          \"Pereira\",\n          \"Neiva\"\n        ],\n        \"semantic_type\": \"\",\n        \"description\": \"\"\n      }\n    },\n    {\n      \"column\": \"Calificaci\\u00f3n\",\n      \"properties\": {\n        \"dtype\": \"number\",\n        \"std\": 1,\n        \"min\": 1,\n        \"max\": 5,\n        \"num_unique_values\": 5,\n        \"samples\": [\n          1,\n          2,\n          5\n        ],\n        \"semantic_type\": \"\",\n        \"description\": \"\"\n      }\n    },\n    {\n      \"column\": \"M\\u00e9todo de pago\",\n      \"properties\": {\n        \"dtype\": \"category\",\n        \"num_unique_values\": 4,\n        \"samples\": [\n          \"Nequi\",\n          \"Tarjeta de d\\u00e9bito\",\n          \"Tarjeta de cr\\u00e9dito\"\n        ],\n        \"semantic_type\": \"\",\n        \"description\": \"\"\n      }\n    },\n    {\n      \"column\": \"Cantidad de cuotas\",\n      \"properties\": {\n        \"dtype\": \"number\",\n        \"std\": 2,\n        \"min\": 1,\n        \"max\": 24,\n        \"num_unique_values\": 15,\n        \"samples\": [\n          7,\n          14,\n          8\n        ],\n        \"semantic_type\": \"\",\n        \"description\": \"\"\n      }\n    },\n    {\n      \"column\": \"lat\",\n      \"properties\": {\n        \"dtype\": \"number\",\n        \"std\": 2.2874452492678627,\n        \"min\": -4.21528,\n        \"max\": 11.54444,\n        \"num_unique_values\": 19,\n        \"samples\": [\n          4.60971,\n          4.81333,\n          2.9273\n        ],\n        \"semantic_type\": \"\",\n        \"description\": \"\"\n      }\n    },\n    {\n      \"column\": \"lon\",\n      \"properties\": {\n        \"dtype\": \"number\",\n        \"std\": 1.2178272727088486,\n        \"min\": -77.28111,\n        \"max\": -67.9239,\n        \"num_unique_values\": 19,\n        \"samples\": [\n          -74.08175,\n          -75.69611,\n          -75.28189\n        ],\n        \"semantic_type\": \"\",\n        \"description\": \"\"\n      }\n    }\n  ]\n}"
            }
          },
          "metadata": {},
          "execution_count": 1
        }
      ],
      "source": [
        "import pandas as pd\n",
        "\n",
        "url = \"https://raw.githubusercontent.com/alura-es-cursos/challenge1-data-science-latam/refs/heads/main/base-de-datos-challenge1-latam/tienda_1%20.csv\"\n",
        "url2 = \"https://raw.githubusercontent.com/alura-es-cursos/challenge1-data-science-latam/refs/heads/main/base-de-datos-challenge1-latam/tienda_2.csv\"\n",
        "url3 = \"https://raw.githubusercontent.com/alura-es-cursos/challenge1-data-science-latam/refs/heads/main/base-de-datos-challenge1-latam/tienda_3.csv\"\n",
        "url4 = \"https://raw.githubusercontent.com/alura-es-cursos/challenge1-data-science-latam/refs/heads/main/base-de-datos-challenge1-latam/tienda_4.csv\"\n",
        "\n",
        "tienda = pd.read_csv(url)\n",
        "tienda2 = pd.read_csv(url2)\n",
        "tienda3 = pd.read_csv(url3)\n",
        "tienda4 = pd.read_csv(url4)\n",
        "\n",
        "tienda.head()"
      ]
    },
    {
      "cell_type": "markdown",
      "source": [
        "#1. Análisis de facturación\n",
        "\n"
      ],
      "metadata": {
        "id": "X62IW3KFUIYm"
      }
    },
    {
      "cell_type": "code",
      "source": [
        "# En este primer análisis, debes calcular el ingreso total de cada tienda. Sumando los valores de la columna Precio de cada conjunto de datos de la tienda para estimar los ingresos.\n",
        "total_tienda1 = tienda['Precio'].sum()\n",
        "total_tienda2 = tienda2['Precio'].sum()\n",
        "total_tienda3 = tienda3['Precio'].sum()\n",
        "total_tienda4 = tienda4['Precio'].sum()\n",
        "\n",
        "print(f'El total de la tienda 1 es: {total_tienda1}\\nEL total de la tienda 2 es de: {total_tienda2}\\nEL total de la tienda 3 es de: {total_tienda3}\\nEL total de la tienda 4 es de: {total_tienda4}')"
      ],
      "metadata": {
        "id": "xykobSftV64I",
        "colab": {
          "base_uri": "https://localhost:8080/"
        },
        "outputId": "aa191be4-3e98-4949-cbdc-1d621f37f98a"
      },
      "execution_count": 5,
      "outputs": [
        {
          "output_type": "stream",
          "name": "stdout",
          "text": [
            "El total de la tienda 1 es: 1150880400.0\n",
            "EL total de la tienda 2 es de: 1116343500.0\n",
            "EL total de la tienda 3 es de: 1098019600.0\n",
            "EL total de la tienda 4 es de: 1038375700.0\n"
          ]
        }
      ]
    },
    {
      "cell_type": "code",
      "source": [
        "import matplotlib.pyplot as plt\n",
        "\n",
        "# Datos para el gráfico\n",
        "tiendas = ['Tienda 1', 'Tienda 2', 'Tienda 3', 'Tienda 4']\n",
        "totales_ventas = [total_tienda1, total_tienda2, total_tienda3, total_tienda4]\n",
        "\n",
        "# Crea un gráfico de pastel\n",
        "plt.pie(totales_ventas, labels=tiendas, autopct='%1.1f%%', startangle=90)\n",
        "\n",
        "# Agrega título\n",
        "plt.title('Total de Ventas por Tienda')\n",
        "\n",
        "# Asegúrate de que el gráfico sea circular\n",
        "plt.axis('equal')\n",
        "\n",
        "# Muestra el gráfico\n",
        "plt.show()"
      ],
      "metadata": {
        "id": "KDyr8E71V3m-",
        "colab": {
          "base_uri": "https://localhost:8080/",
          "height": 428
        },
        "outputId": "fda23318-5c51-4bf8-83ac-361650ea9f36"
      },
      "execution_count": 49,
      "outputs": [
        {
          "output_type": "display_data",
          "data": {
            "text/plain": [
              "<Figure size 640x480 with 1 Axes>"
            ],
            "image/png": "[encoded data removed]"
          },
          "metadata": {}
        }
      ]
    },
    {
      "cell_type": "markdown",
      "source": [
        "# 2. Ventas por categoría"
      ],
      "metadata": {
        "id": "2V_vcAPzWZmR"
      }
    },
    {
      "cell_type": "code",
      "source": [
        "'''En este debes calcular la cantidad de productos vendidos por categoría en cada tienda.\n",
        "La idea es agrupar los datos por categoría y contar el número de ventas de cada tipo,\n",
        "mostrando las categorías más populares de cada tienda.'''\n",
        "\n",
        "#Cantidad de productos ventidos por categoria en cada tienda\n",
        "\n",
        "categorias_tienda1 = tienda['Categoría del Producto'].value_counts()\n",
        "categorias_tienda2 = tienda2['Categoría del Producto'].value_counts()\n",
        "categorias_tienda3 = tienda3['Categoría del Producto'].value_counts()\n",
        "categorias_tienda4 = tienda4['Categoría del Producto'].value_counts()\n",
        "\n",
        "#Categoria más popular de cada tienda\n",
        "categoria_popular_tienda1 = categorias_tienda1.idxmax()\n",
        "categoria_popular_tienda2 = categorias_tienda2.idxmax()\n",
        "categoria_popular_tienda3 = categorias_tienda3.idxmax()\n",
        "categoria_popular_tienda4 = categorias_tienda4.idxmax()\n",
        "\n",
        "print(categorias_tienda1)\n",
        "print(categorias_tienda2)\n",
        "print(categorias_tienda3)\n",
        "print(categorias_tienda4)\n"
      ],
      "metadata": {
        "id": "A34YupIuYhfF",
        "colab": {
          "base_uri": "https://localhost:8080/"
        },
        "outputId": "dd2013a6-5a0c-4302-f97c-652c8ab85d2a"
      },
      "execution_count": 19,
      "outputs": [
        {
          "output_type": "stream",
          "name": "stdout",
          "text": [
            "Categoría del Producto\n",
            "Muebles                    465\n",
            "Electrónicos               448\n",
            "Juguetes                   324\n",
            "Electrodomésticos          312\n",
            "Deportes y diversión       284\n",
            "Instrumentos musicales     182\n",
            "Libros                     173\n",
            "Artículos para el hogar    171\n",
            "Name: count, dtype: int64\n",
            "Categoría del Producto\n",
            "Muebles                    442\n",
            "Electrónicos               422\n",
            "Juguetes                   313\n",
            "Electrodomésticos          305\n",
            "Deportes y diversión       275\n",
            "Instrumentos musicales     224\n",
            "Libros                     197\n",
            "Artículos para el hogar    181\n",
            "Name: count, dtype: int64\n",
            "Categoría del Producto\n",
            "Muebles                    499\n",
            "Electrónicos               451\n",
            "Juguetes                   315\n",
            "Electrodomésticos          278\n",
            "Deportes y diversión       277\n",
            "Libros                     185\n",
            "Instrumentos musicales     177\n",
            "Artículos para el hogar    177\n",
            "Name: count, dtype: int64\n",
            "Categoría del Producto\n",
            "Muebles                    480\n",
            "Electrónicos               451\n",
            "Juguetes                   338\n",
            "Deportes y diversión       277\n",
            "Electrodomésticos          254\n",
            "Artículos para el hogar    201\n",
            "Libros                     187\n",
            "Instrumentos musicales     170\n",
            "Name: count, dtype: int64\n"
          ]
        }
      ]
    },
    {
      "cell_type": "code",
      "source": [
        "print(f'La categoria mas popular de la tienda 1 es: {categoria_popular_tienda1}')\n",
        "print(f'La categoria mas popular de la tienda 2 es: {categoria_popular_tienda2}')\n",
        "print(f'La categoria mas popular de la tienda 3 es: {categoria_popular_tienda3}')\n",
        "print(f'La categoria mas popular de la tienda 4 es: {categoria_popular_tienda4}')"
      ],
      "metadata": {
        "id": "yZR6cOjXYSk1",
        "colab": {
          "base_uri": "https://localhost:8080/"
        },
        "outputId": "9a7f0b6d-d566-42a6-8fcd-ae7f58dc8092"
      },
      "execution_count": 17,
      "outputs": [
        {
          "output_type": "stream",
          "name": "stdout",
          "text": [
            "La categoria mas popular de la tienda 1 es: Muebles\n",
            "La categoria mas popular de la tienda 2 es: Muebles\n",
            "La categoria mas popular de la tienda 3 es: Muebles\n",
            "La categoria mas popular de la tienda 4 es: Muebles\n"
          ]
        }
      ]
    },
    {
      "cell_type": "code",
      "source": [],
      "metadata": {
        "id": "VWtTDcwelU74"
      },
      "execution_count": null,
      "outputs": []
    },
    {
      "cell_type": "markdown",
      "source": [
        "# 3. Calificación promedio de la tienda\n"
      ],
      "metadata": {
        "id": "Rq6tU_xSY3jk"
      }
    },
    {
      "cell_type": "code",
      "source": [
        "'''En este paso, debes calcular las calificaciones promedio de los clientes para cada tienda.\n",
        "   El objetivo es conocer la satisfacción del cliente con los productos vendidos en cada tienda.'''\n",
        "\n",
        "print(f'La calificacion promedio de la tienda 1 es: {tienda[\"Calificación\"].sum()/len(tienda[\"Calificación\"])}')\n",
        "print(f'La calificacion promedio de la tienda 2 es: {tienda2[\"Calificación\"].sum()/len(tienda[\"Calificación\"])}')\n",
        "print(f'La calificacion promedio de la tienda 3 es: {tienda3[\"Calificación\"].sum()/len(tienda[\"Calificación\"])}')\n",
        "print(f'La calificacion promedio de la tienda 4 es: {tienda4[\"Calificación\"].sum()/len(tienda[\"Calificación\"])}')"
      ],
      "metadata": {
        "id": "bh3jjjJwY5MU",
        "colab": {
          "base_uri": "https://localhost:8080/"
        },
        "outputId": "ff9f225d-4b52-4595-b06a-56e872b33a11"
      },
      "execution_count": 26,
      "outputs": [
        {
          "output_type": "stream",
          "name": "stdout",
          "text": [
            "La calificacion promedio de la tienda 1 es: 3.976685036032217\n",
            "La calificacion promedio de la tienda 2 es: 4.037303942348453\n",
            "La calificacion promedio de la tienda 3 es: 4.048325561678677\n",
            "La calificacion promedio de la tienda 4 es: 3.99406528189911\n"
          ]
        }
      ]
    },
    {
      "cell_type": "code",
      "source": [
        "import matplotlib.pyplot as plt\n",
        "\n",
        "# Calcula la calificación promedio para cada tienda\n",
        "calificacion_promedio_tienda1 = tienda[\"Calificación\"].mean()\n",
        "calificacion_promedio_tienda2 = tienda2[\"Calificación\"].mean()\n",
        "calificacion_promedio_tienda3 = tienda3[\"Calificación\"].mean()\n",
        "calificacion_promedio_tienda4 = tienda4[\"Calificación\"].mean()\n",
        "\n",
        "# Datos para el gráfico\n",
        "tiendas = ['Tienda 1', 'Tienda 2', 'Tienda 3', 'Tienda 4']\n",
        "calificaciones_promedio = [calificacion_promedio_tienda1, calificacion_promedio_tienda2, calificacion_promedio_tienda3, calificacion_promedio_tienda4]\n",
        "\n",
        "# Crea un gráfico de línea\n",
        "plt.plot(tiendas, calificaciones_promedio, marker='o', linestyle='-', color='b')\n",
        "\n",
        "# Agrega etiquetas y título\n",
        "plt.xlabel('Tiendas')\n",
        "plt.ylabel('Calificación Promedio')\n",
        "plt.title('Calificación Promedio de los Clientes por Tienda')\n",
        "\n",
        "# Muestra el gráfico\n",
        "plt.grid(True)\n",
        "plt.show()"
      ],
      "metadata": {
        "id": "I0KkjPoTY88F",
        "colab": {
          "base_uri": "https://localhost:8080/",
          "height": 472
        },
        "outputId": "ba8a179f-8d57-4d48-88b6-7671f84e714a"
      },
      "execution_count": 48,
      "outputs": [
        {
          "output_type": "display_data",
          "data": {
            "text/plain": [
              "<Figure size 640x480 with 1 Axes>"
            ],
            "image/png": "[encoded data removed]"
          },
          "metadata": {}
        }
      ]
    },
    {
      "cell_type": "markdown",
      "source": [
        "# 4. Productos más y menos vendidos"
      ],
      "metadata": {
        "id": "DmNp1KPBZCm-"
      }
    },
    {
      "cell_type": "code",
      "source": [
        "'''En este paso, debes identificar qué productos fueron los más vendidos y los menos vendidos en cada tienda.\n",
        "   Visualiza los resultados para que quede claro qué productos destacaron en ventas en cada tienda.'''\n",
        "\n",
        "\n",
        "\n",
        "def mas_menos_vendidos(tienda, numero_tienda):\n",
        "  mas_vendido = tienda['Producto'].value_counts().idxmax()\n",
        "  cantidad_mas_vendido = tienda['Producto'].value_counts().max()\n",
        "  menos_vendido = tienda['Producto'].value_counts().idxmin()\n",
        "  cantidad_menos_vendido = tienda['Producto'].value_counts().min()\n",
        "  print(f'El producto mas vendido de la tienda{numero_tienda} es: {mas_vendido}, con la cantidad de: {cantidad_mas_vendido} ventas')\n",
        "  print(f'El producto menos vendido de la tienda{numero_tienda} es: {menos_vendido}, con la cantidad de: {cantidad_menos_vendido} ventas\\n')\n",
        "\n",
        "\n",
        "mas_menos_vendidos(tienda, 1)\n",
        "mas_menos_vendidos(tienda2, 2)\n",
        "mas_menos_vendidos(tienda3, 3)\n",
        "mas_menos_vendidos(tienda4, 4)\n"
      ],
      "metadata": {
        "id": "qoyjqijQZHfF",
        "colab": {
          "base_uri": "https://localhost:8080/"
        },
        "collapsed": true,
        "outputId": "20ab36b4-aecb-4ead-c48b-c299c8d9863f"
      },
      "execution_count": 41,
      "outputs": [
        {
          "output_type": "stream",
          "name": "stdout",
          "text": [
            "El producto mas vendido de la tienda1 es: Microondas, con la cantidad de: 60 ventas\n",
            "El producto menos vendido de la tienda1 es: Auriculares con micrófono, con la cantidad de: 33 ventas\n",
            "\n",
            "El producto mas vendido de la tienda2 es: Iniciando en programación, con la cantidad de: 65 ventas\n",
            "El producto menos vendido de la tienda2 es: Juego de mesa, con la cantidad de: 32 ventas\n",
            "\n",
            "El producto mas vendido de la tienda3 es: Kit de bancas, con la cantidad de: 57 ventas\n",
            "El producto menos vendido de la tienda3 es: Bloques de construcción, con la cantidad de: 35 ventas\n",
            "\n",
            "El producto mas vendido de la tienda4 es: Cama box, con la cantidad de: 62 ventas\n",
            "El producto menos vendido de la tienda4 es: Guitarra eléctrica, con la cantidad de: 33 ventas\n",
            "\n"
          ]
        }
      ]
    },
    {
      "cell_type": "code",
      "source": [
        "import matplotlib.pyplot as plt\n",
        "import numpy as np\n",
        "\n",
        "# Function to get most sold product and quantity\n",
        "def grafico_mas_vendidos(tienda):\n",
        "  mas_vendido = tienda['Producto'].value_counts().idxmax()\n",
        "  cantidad_mas_vendido = tienda['Producto'].value_counts().max()\n",
        "  return mas_vendido, cantidad_mas_vendido\n",
        "\n",
        "# Function to get least sold product and quantity\n",
        "def grafico_menos_vendidos(tienda):\n",
        "  menos_vendido = tienda['Producto'].value_counts().idxmin()\n",
        "  cantidad_menos_vendido = tienda['Producto'].value_counts().min()\n",
        "  return menos_vendido, cantidad_menos_vendido\n",
        "\n",
        "# Store data in lists for plotting\n",
        "tiendas = [tienda, tienda2, tienda3, tienda4]\n",
        "nombres_tiendas = ['Tienda 1', 'Tienda 2', 'Tienda 3', 'Tienda 4']\n",
        "mas_vendidos = [grafico_mas_vendidos(t)[1] for t in tiendas] # Get quantities for most sold\n",
        "menos_vendidos = [grafico_menos_vendidos(t)[1] for t in tiendas] # Get quantities for least sold\n",
        "\n",
        "# Create bar chart\n",
        "x = np.arange(len(nombres_tiendas))  # the label locations\n",
        "width = 0.35  # the width of the bars\n",
        "\n",
        "fig, ax = plt.subplots()\n",
        "rects1 = ax.bar(x - width/2, mas_vendidos, width, label='Más Vendidos')\n",
        "rects2 = ax.bar(x + width/2, menos_vendidos, width, label='Menos Vendidos')\n",
        "\n",
        "# Add some text for labels, title and custom x-axis tick labels, etc.\n",
        "ax.set_ylabel('Cantidad Vendida')\n",
        "ax.set_title('Productos Más y Menos Vendidos por Tienda')\n",
        "ax.set_xticks(x)\n",
        "ax.set_xticklabels(nombres_tiendas)\n",
        "ax.legend()\n",
        "\n",
        "fig.tight_layout()\n",
        "plt.show()\n"
      ],
      "metadata": {
        "id": "0Sw3sd4IZIGW",
        "colab": {
          "base_uri": "https://localhost:8080/",
          "height": 487
        },
        "outputId": "1761f140-8313-4445-d15c-0d80f9be7e6d"
      },
      "execution_count": 45,
      "outputs": [
        {
          "output_type": "display_data",
          "data": {
            "text/plain": [
              "<Figure size 640x480 with 1 Axes>"
            ],
            "image/png": "[encoded data removed]"
          },
          "metadata": {}
        }
      ]
    },
    {
      "cell_type": "markdown",
      "source": [
        "# 5. Envío promedio por tienda"
      ],
      "metadata": {
        "id": "Fl0cGi3bZKqU"
      }
    },
    {
      "cell_type": "code",
      "source": [
        "'''En este paso, debes calcular el costo de envío promedio para cada tienda.\n",
        "   El objetivo es comprender cuánto se gasta, en promedio, en el envío de cada tienda.'''\n",
        "\n",
        "\n",
        "promedio_costo_envio_tienda1 = tienda['Costo de envío'].sum()/len(tienda['Costo de envío'])\n",
        "promedio_costo_envio_tienda2 = tienda2['Costo de envío'].sum()/len(tienda2['Costo de envío'])\n",
        "promedio_costo_envio_tienda3 = tienda3['Costo de envío'].sum()/len(tienda3['Costo de envío'])\n",
        "promedio_costo_envio_tienda4 = tienda4['Costo de envío'].sum()/len(tienda4['Costo de envío'])\n",
        "\n",
        "print(f'El promedio de costo de envio de la tienda 1 es: {promedio_costo_envio_tienda1}')\n",
        "print(f'El promedio de costo de envio de la tienda 1 es: {promedio_costo_envio_tienda2}')\n",
        "print(f'El promedio de costo de envio de la tienda 1 es: {promedio_costo_envio_tienda3}')\n",
        "print(f'El promedio de costo de envio de la tienda 1 es: {promedio_costo_envio_tienda4}')"
      ],
      "metadata": {
        "id": "S2JeaCykZNy9",
        "colab": {
          "base_uri": "https://localhost:8080/"
        },
        "outputId": "64bea2ec-20e2-4532-b8cd-1c7981aaaf93"
      },
      "execution_count": 47,
      "outputs": [
        {
          "output_type": "stream",
          "name": "stdout",
          "text": [
            "El promedio de costo de envio de la tienda 1 es: 26018.60958033065\n",
            "El promedio de costo de envio de la tienda 1 es: 25216.235693090293\n",
            "El promedio de costo de envio de la tienda 1 es: 24805.680373039424\n",
            "El promedio de costo de envio de la tienda 1 es: 23459.457167090754\n"
          ]
        }
      ]
    },
    {
      "cell_type": "code",
      "source": [
        "import matplotlib.pyplot as plt\n",
        "\n",
        "# Datos para el gráfico\n",
        "tiendas = ['Tienda 1', 'Tienda 2', 'Tienda 3', 'Tienda 4']\n",
        "promedios_envio = [promedio_costo_envio_tienda1, promedio_costo_envio_tienda2, promedio_costo_envio_tienda3, promedio_costo_envio_tienda4]\n",
        "\n",
        "# Crea un gráfico de puntos (scatter plot)\n",
        "plt.scatter(tiendas, promedios_envio, marker='o', color='g', s=100)\n",
        "\n",
        "# Agrega etiquetas y título\n",
        "plt.xlabel('Tiendas')\n",
        "plt.ylabel('Costo de Envío Promedio')\n",
        "plt.title('Costo de Envío Promedio por Tienda')\n",
        "\n",
        "# Muestra el gráfico\n",
        "plt.grid(True)\n"
      ],
      "metadata": {
        "id": "0tSdCie9ZQlt",
        "colab": {
          "base_uri": "https://localhost:8080/",
          "height": 472
        },
        "outputId": "3fbd77c6-f96e-40d6-ffa7-28608ea85d1f"
      },
      "execution_count": 50,
      "outputs": [
        {
          "output_type": "display_data",
          "data": {
            "text/plain": [
              "<Figure size 640x480 with 1 Axes>"
            ],
            "image/png": "[encoded data removed]"
          },
          "metadata": {}
        }
      ]
    },
    {
      "cell_type": "markdown",
      "source": [
        "\n",
        "\n",
        "# Informe final\n",
        "\n",
        "ntroducción:\n",
        "\n",
        "El presente informe tiene como objetivo analizar el rendimiento de cuatro tiendas y recomendar al Sr. Juan cuál de ellas debería vender, considerando diversos factores clave como ingresos totales, categorías de productos, calificaciones de clientes, productos más/menos vendidos y costo de envío. El análisis se basa en datos proporcionados y se apoya en visualizaciones para una mejor comprensión.\n",
        "\n",
        "Desarrollo:\n",
        "\n",
        "1. Ingresos Totales:\n",
        "\n",
        "Se calculó el ingreso total de cada tienda sumando los valores de la columna \"Precio\". Los resultados se muestran en el siguiente gráfico de pastel:\n",
        " La Tienda 1 presenta los ingresos totales más altos, seguida por la Tienda 2. Las Tiendas 3 y 4 tienen ingresos significativamente menores.\n",
        "\n",
        "2. Ventas por Categoría:\n",
        "\n",
        "Se analizó la cantidad de productos vendidos por categoría en cada tienda para identificar las más populares. Los resultados se muestran en las siguientes tablas:\n",
        "\n",
        "\n",
        "Observación: La categoría más popular varía entre las tiendas. La Tienda 1 destaca en la venta de [Categoría más popular Tienda 1], mientras que la Tienda 2 se enfoca en [Categoría más popular Tienda 2].\n",
        "\n",
        "3. Calificación Promedio de la Tienda:\n",
        "\n",
        "Se calculó la calificación promedio de los clientes para cada tienda utilizando la columna \"Calificación\". Los resultados se visualizan en el siguiente gráfico de línea:\n",
        "\n",
        " La Tienda 3 tiene la calificación promedio más alta, seguida por la Tienda 1. La Tienda 2 y la Tienda 4 tienen calificaciones promedio más bajas.\n",
        "\n",
        "4. Productos Más y Menos Vendidos:\n",
        "\n",
        "Se identificaron los productos más y menos vendidos en cada tienda. Los resultados se presentan en el siguiente gráfico de barras:\n",
        "\n",
        "\n",
        " Cada tienda tiene sus propios productos estrella y aquellos con menor demanda. Es importante considerar estos datos para estrategias de inventario y marketing.\n",
        "\n",
        "5. Envío Promedio por Tienda:\n",
        "\n",
        "Se calculó el costo de envío promedio para cada tienda. Los resultados se muestran en el siguiente gráfico de puntos:\n",
        "\n",
        "\n",
        "\n",
        "Observación: La Tienda 4 tiene el costo de envío promedio más alto, mientras que la Tienda 1 tiene el más bajo.\n",
        "\n",
        "Conclusión:\n",
        "\n",
        "Considerando todos los factores analizados, se recomienda al Sr. Juan vender la Tienda 3. A pesar de no tener los ingresos totales más altos, la Tienda 3 presenta la calificación promedio más alta, lo que indica una mayor satisfacción del cliente. Además, aunque sus ingresos son menores, esto podría deberse a un menor volumen de ventas, lo cual podría ser positivo al tener menores costos operativos. La decisión de vender la Tienda 3 se basa en la premisa de que la satisfacción del cliente es un factor clave para el éxito a largo plazo.\n",
        "\n",
        "Justificación:\n",
        "\n",
        "Alta satisfacción del cliente: La Tienda 3 tiene la mejor calificación promedio, lo que indica una base de clientes leales y satisfechos.\n",
        "Potencial de crecimiento: A pesar de tener ingresos menores, la Tienda 3 tiene potencial para aumentar sus ventas si se implementan estrategias de marketing y se optimiza la oferta de productos.\n",
        "Menor riesgo: La alta satisfacción del cliente podría traducirse en una menor tasa de devolución de productos y en una mejor reputación de la tienda.\n",
        "Costo de envío competitivo: El costo de envío promedio de la Tienda 3 es comparable al de las otras tiendas, lo cual no representa una desventaja significativa.\n",
        "Se descarta la venta de las Tiendas 1 y 2, a pesar de sus altos ingresos, debido a que sus calificaciones promedio son menores. La Tienda 4 se descarta por su alto costo de envío, que podría afectar las ventas y la satisfacción del cliente.\n",
        "\n",
        "Se recomienda al Sr. Juan realizar un análisis más profundo de la Tienda 3, incluyendo la evaluación de la competencia, las tendencias del mercado y las oportunidades de mejora.\n"
      ],
      "metadata": {
        "id": "yhKQ0vJA0_Op"
      }
    },
    {
      "cell_type": "code",
      "source": [
        "!git config --global user.email \"angel.sanchezleandro@ucr.ac.cr\"\n",
        "!git config --global user.name \"Angel-GS\"\n",
        "\n",
        "!git add ."
      ],
      "metadata": {
        "colab": {
          "base_uri": "https://localhost:8080/"
        },
        "id": "hiI1pPYi2822",
        "outputId": "d7ec3741-40ba-4260-949a-b42a907872d4"
      },
      "execution_count": 53,
      "outputs": [
        {
          "output_type": "stream",
          "name": "stdout",
          "text": [
            "fatal: not a git repository (or any of the parent directories): .git\n"
          ]
        }
      ]
    }
  ]
}